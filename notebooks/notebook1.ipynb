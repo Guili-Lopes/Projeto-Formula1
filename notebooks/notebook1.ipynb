{
 "cells": [
  {
   "metadata": {},
   "cell_type": "markdown",
   "source": [
    "# Projeto TCC - Análise de Dados da Fórmula 1\n",
    "\n",
    "## Objetivo\n",
    "\n",
    "Este projeto tem como objetivo analisar dados históricos da Fórmula 1 utilizando Python e bibliotecas de ciência de dados. Através de visualizações, estatísticas e modelagens, pretende-se identificar padrões de desempenho, estratégias de corrida e tendências ao longo das temporadas.\n",
    "\n",
    "## Ferramentas Utilizadas\n",
    "\n",
    "- Python 3.13 (ambiente virtual)\n",
    "- Jupyter Notebook\n",
    "- Matplotlib\n",
    "\n",
    "## Estrutura do Projeto\n",
    "\n",
    "- `notebooks/` – Cadernos interativos com análises e testes\n",
    "- `src/` – Código-fonte reutilizável (funções, classes, etc.)\n",
    "- `data/` – Conjunto de dados brutos e/ou processados\n",
    "- `venv/` – Ambiente virtual Python (não incluir no versionamento)\n",
    "\n",
    "## Etapas do Projeto\n",
    "\n",
    "1. Coleta e organização dos dados\n",
    "2. Análise exploratória dos dados (EDA)\n",
    "3. Limpeza e tratamento\n",
    "4. Visualizações interativas\n",
    "5. Análises estatísticas e modelos preditivos (se aplicável)\n",
    "6. Conclusões e insights\n",
    "\n",
    "## Autor\n",
    "\n",
    "> Guilherme Lourenço Lopes\n",
    "> Projeto de Trabalho de Conclusão de Curso (TCC)\n",
    "\n",
    "---"
   ],
   "id": "710c53ca6dd39e92"
  }
 ],
 "metadata": {
  "kernelspec": {
   "display_name": "Python 3",
   "language": "python",
   "name": "python3"
  },
  "language_info": {
   "codemirror_mode": {
    "name": "ipython",
    "version": 2
   },
   "file_extension": ".py",
   "mimetype": "text/x-python",
   "name": "python",
   "nbconvert_exporter": "python",
   "pygments_lexer": "ipython2",
   "version": "2.7.6"
  }
 },
 "nbformat": 4,
 "nbformat_minor": 5
}
