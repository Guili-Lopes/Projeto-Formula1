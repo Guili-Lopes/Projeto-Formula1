{
 "cells": [
  {
   "metadata": {},
   "cell_type": "markdown",
   "source": [
    "# Fontes de Dados do Projeto\n",
    "\n",
    "## 📂 Fontes consideradas\n",
    "\n",
    "### 1. GitHub (toUpperCase78/formula1-datasets)\n",
    "- Link: https://github.com/toUpperCase78/formula1-datasets/tree/master\n",
    "- **Vantagens**:\n",
    "  - Estrutura simples (arquivos CSV bem organizados).\n",
    "  - Mais fácil de manipular e tratamento.\n",
    "- **Desvantagens**:\n",
    "  - Poucos anos de histórico (cobertura limitada).\n",
    "\n",
    "---\n",
    "\n",
    "### 2. Kaggle (Formula 1 World Championship 1950–2020)\n",
    "- Link: https://www.kaggle.com/datasets/rohanrao/formula-1-world-championship-1950-2020\n",
    "- **Vantagens**:\n",
    "  - Grande cobertura histórica (1950–2020).\n",
    "  - Muito material para análises de longo prazo.\n",
    "- **Desvantagens**:\n",
    "  - Estrutura mais confusa e fragmentada.\n",
    "  - Exige mais processamento e padronização.\n",
    "\n",
    "---\n",
    "\n",
    "## 🔧 Estratégia inicial\n",
    "- Usar **o dataset do GitHub** para os primeiros testes e protótipos, pois é mais simples.\n",
    "- Caso seja necessário, expandir para o dataset completo do Kaggle.\n",
    "\n",
    "---\n"
   ],
   "id": "aaaf8e161d9b4bd6"
  }
 ],
 "metadata": {
  "kernelspec": {
   "display_name": "Python 3",
   "language": "python",
   "name": "python3"
  },
  "language_info": {
   "codemirror_mode": {
    "name": "ipython",
    "version": 2
   },
   "file_extension": ".py",
   "mimetype": "text/x-python",
   "name": "python",
   "nbconvert_exporter": "python",
   "pygments_lexer": "ipython2",
   "version": "2.7.6"
  }
 },
 "nbformat": 4,
 "nbformat_minor": 5
}
